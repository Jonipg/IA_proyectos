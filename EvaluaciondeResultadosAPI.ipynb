{
 "cells": [
  {
   "cell_type": "markdown",
   "id": "8836aecf",
   "metadata": {},
   "source": [
    "# Evaluación de Resultados - API Adaptation"
   ]
  },
  {
   "cell_type": "code",
   "execution_count": null,
   "id": "8484a582",
   "metadata": {},
   "outputs": [],
   "source": [
    "\n",
    "import arff\n",
    "import pandas as pd\n",
    "import numpy as np\n",
    "from sklearn.model_selection import train_test_split\n",
    "from sklearn.preprocessing import RobustScaler\n",
    "from sklearn.compose import ColumnTransformer\n",
    "from sklearn.preprocessing import OneHotEncoder\n",
    "from sklearn.pipeline import Pipeline\n",
    "from sklearn.impute import SimpleImputer\n",
    "from sklearn.base import BaseEstimator, TransformerMixin\n",
    "from flask import Flask, jsonify, request\n"
   ]
  },
  {
   "cell_type": "code",
   "execution_count": null,
   "id": "a36d9f6b",
   "metadata": {},
   "outputs": [],
   "source": [
    "\n",
    "def load_kdd_dataset(data_path):\n",
    "    \"\"\"Load NSL-KDD dataset from the provided ARFF file path.\"\"\"\n",
    "    with open(data_path, 'r') as train_set:\n",
    "        dataset = arff.load(train_set)\n",
    "    attributes = [attr[0] for attr in dataset[\"attributes\"]]\n",
    "    return pd.DataFrame(dataset[\"data\"], columns=attributes)\n"
   ]
  },
  {
   "cell_type": "markdown",
   "id": "bc370870",
   "metadata": {},
   "source": [
    "## API Setup"
   ]
  },
  {
   "cell_type": "code",
   "execution_count": null,
   "id": "56b17012",
   "metadata": {},
   "outputs": [],
   "source": [
    "\n",
    "app = Flask(__name__)\n",
    "\n",
    "@app.route('/api/load_data', methods=['POST'])\n",
    "def load_data():\n",
    "    data_path = request.json.get('data_path')\n",
    "    if not data_path:\n",
    "        return jsonify({\"error\": \"No data path provided\"}), 400\n",
    "    try:\n",
    "        data = load_kdd_dataset(data_path)\n",
    "        return jsonify({\"message\": \"Data loaded successfully\", \"shape\": data.shape}), 200\n",
    "    except Exception as e:\n",
    "        return jsonify({\"error\": str(e)}), 500\n",
    "\n",
    "if __name__ == '__main__':\n",
    "    app.run(host='0.0.0.0', port=5000)\n"
   ]
  }
 ],
 "metadata": {
  "kernelspec": {
   "display_name": "Python 3 (ipykernel)",
   "language": "python",
   "name": "python3"
  },
  "language_info": {
   "codemirror_mode": {
    "name": "ipython",
    "version": 3
   },
   "file_extension": ".py",
   "mimetype": "text/x-python",
   "name": "python",
   "nbconvert_exporter": "python",
   "pygments_lexer": "ipython3",
   "version": "3.12.7"
  }
 },
 "nbformat": 4,
 "nbformat_minor": 5
}
