{
 "cells": [
  {
   "cell_type": "code",
   "execution_count": 1,
   "id": "f9febafc",
   "metadata": {},
   "outputs": [],
   "source": [
    "#Import the libraries\n",
    "import pandas as pd \n",
    "import numpy as np \n",
    "import matplotlib.pyplot as plt \n",
    "from sklearn import preprocessing\n",
    "from sklearn.ensemble import RandomForestRegressor\n",
    "from sklearn.model_selection import train_test_split\n",
    "from matplotlib import style\n",
    "style.use(\"fivethirtyeight\")"
   ]
  },
  {
   "cell_type": "code",
   "execution_count": 3,
   "id": "b6673e62",
   "metadata": {},
   "outputs": [],
   "source": [
    "#Read the csv file into a DataFrame\n",
    "df = pd.read_csv(\"Tesla.csv\")"
   ]
  },
  {
   "cell_type": "code",
   "execution_count": 4,
   "id": "260860c4",
   "metadata": {},
   "outputs": [
    {
     "data": {
      "text/html": [
       "<div>\n",
       "<style scoped>\n",
       "    .dataframe tbody tr th:only-of-type {\n",
       "        vertical-align: middle;\n",
       "    }\n",
       "\n",
       "    .dataframe tbody tr th {\n",
       "        vertical-align: top;\n",
       "    }\n",
       "\n",
       "    .dataframe thead th {\n",
       "        text-align: right;\n",
       "    }\n",
       "</style>\n",
       "<table border=\"1\" class=\"dataframe\">\n",
       "  <thead>\n",
       "    <tr style=\"text-align: right;\">\n",
       "      <th></th>\n",
       "      <th>Date</th>\n",
       "      <th>Open</th>\n",
       "      <th>High</th>\n",
       "      <th>Low</th>\n",
       "      <th>Close</th>\n",
       "      <th>Volume</th>\n",
       "      <th>Adj Close</th>\n",
       "    </tr>\n",
       "  </thead>\n",
       "  <tbody>\n",
       "    <tr>\n",
       "      <th>0</th>\n",
       "      <td>6/29/2010</td>\n",
       "      <td>19.000000</td>\n",
       "      <td>25.00</td>\n",
       "      <td>17.540001</td>\n",
       "      <td>23.889999</td>\n",
       "      <td>18766300</td>\n",
       "      <td>23.889999</td>\n",
       "    </tr>\n",
       "    <tr>\n",
       "      <th>1</th>\n",
       "      <td>6/30/2010</td>\n",
       "      <td>25.790001</td>\n",
       "      <td>30.42</td>\n",
       "      <td>23.299999</td>\n",
       "      <td>23.830000</td>\n",
       "      <td>17187100</td>\n",
       "      <td>23.830000</td>\n",
       "    </tr>\n",
       "    <tr>\n",
       "      <th>2</th>\n",
       "      <td>7/1/2010</td>\n",
       "      <td>25.000000</td>\n",
       "      <td>25.92</td>\n",
       "      <td>20.270000</td>\n",
       "      <td>21.959999</td>\n",
       "      <td>8218800</td>\n",
       "      <td>21.959999</td>\n",
       "    </tr>\n",
       "    <tr>\n",
       "      <th>3</th>\n",
       "      <td>7/2/2010</td>\n",
       "      <td>23.000000</td>\n",
       "      <td>23.10</td>\n",
       "      <td>18.709999</td>\n",
       "      <td>19.200001</td>\n",
       "      <td>5139800</td>\n",
       "      <td>19.200001</td>\n",
       "    </tr>\n",
       "    <tr>\n",
       "      <th>4</th>\n",
       "      <td>7/6/2010</td>\n",
       "      <td>20.000000</td>\n",
       "      <td>20.00</td>\n",
       "      <td>15.830000</td>\n",
       "      <td>16.110001</td>\n",
       "      <td>6866900</td>\n",
       "      <td>16.110001</td>\n",
       "    </tr>\n",
       "  </tbody>\n",
       "</table>\n",
       "</div>"
      ],
      "text/plain": [
       "        Date       Open   High        Low      Close    Volume  Adj Close\n",
       "0  6/29/2010  19.000000  25.00  17.540001  23.889999  18766300  23.889999\n",
       "1  6/30/2010  25.790001  30.42  23.299999  23.830000  17187100  23.830000\n",
       "2   7/1/2010  25.000000  25.92  20.270000  21.959999   8218800  21.959999\n",
       "3   7/2/2010  23.000000  23.10  18.709999  19.200001   5139800  19.200001\n",
       "4   7/6/2010  20.000000  20.00  15.830000  16.110001   6866900  16.110001"
      ]
     },
     "execution_count": 4,
     "metadata": {},
     "output_type": "execute_result"
    }
   ],
   "source": [
    "df.head()"
   ]
  },
  {
   "cell_type": "code",
   "execution_count": 5,
   "id": "a2b1a996",
   "metadata": {},
   "outputs": [
    {
     "name": "stdout",
     "output_type": "stream",
     "text": [
      "<class 'pandas.core.frame.DataFrame'>\n",
      "RangeIndex: 1692 entries, 0 to 1691\n",
      "Data columns (total 7 columns):\n",
      " #   Column     Non-Null Count  Dtype  \n",
      "---  ------     --------------  -----  \n",
      " 0   Date       1692 non-null   object \n",
      " 1   Open       1692 non-null   float64\n",
      " 2   High       1692 non-null   float64\n",
      " 3   Low        1692 non-null   float64\n",
      " 4   Close      1692 non-null   float64\n",
      " 5   Volume     1692 non-null   int64  \n",
      " 6   Adj Close  1692 non-null   float64\n",
      "dtypes: float64(5), int64(1), object(1)\n",
      "memory usage: 92.7+ KB\n"
     ]
    }
   ],
   "source": [
    "df.info()"
   ]
  },
  {
   "cell_type": "code",
   "execution_count": 6,
   "id": "51de3425",
   "metadata": {},
   "outputs": [
    {
     "data": {
      "text/html": [
       "<div>\n",
       "<style scoped>\n",
       "    .dataframe tbody tr th:only-of-type {\n",
       "        vertical-align: middle;\n",
       "    }\n",
       "\n",
       "    .dataframe tbody tr th {\n",
       "        vertical-align: top;\n",
       "    }\n",
       "\n",
       "    .dataframe thead th {\n",
       "        text-align: right;\n",
       "    }\n",
       "</style>\n",
       "<table border=\"1\" class=\"dataframe\">\n",
       "  <thead>\n",
       "    <tr style=\"text-align: right;\">\n",
       "      <th></th>\n",
       "      <th>Open</th>\n",
       "      <th>High</th>\n",
       "      <th>Low</th>\n",
       "      <th>Close</th>\n",
       "      <th>Volume</th>\n",
       "      <th>Adj Close</th>\n",
       "    </tr>\n",
       "  </thead>\n",
       "  <tbody>\n",
       "    <tr>\n",
       "      <th>count</th>\n",
       "      <td>1692.000000</td>\n",
       "      <td>1692.000000</td>\n",
       "      <td>1692.000000</td>\n",
       "      <td>1692.000000</td>\n",
       "      <td>1.692000e+03</td>\n",
       "      <td>1692.000000</td>\n",
       "    </tr>\n",
       "    <tr>\n",
       "      <th>mean</th>\n",
       "      <td>132.441572</td>\n",
       "      <td>134.769698</td>\n",
       "      <td>129.996223</td>\n",
       "      <td>132.428658</td>\n",
       "      <td>4.270741e+06</td>\n",
       "      <td>132.428658</td>\n",
       "    </tr>\n",
       "    <tr>\n",
       "      <th>std</th>\n",
       "      <td>94.309923</td>\n",
       "      <td>95.694914</td>\n",
       "      <td>92.855227</td>\n",
       "      <td>94.313187</td>\n",
       "      <td>4.295971e+06</td>\n",
       "      <td>94.313187</td>\n",
       "    </tr>\n",
       "    <tr>\n",
       "      <th>min</th>\n",
       "      <td>16.139999</td>\n",
       "      <td>16.629999</td>\n",
       "      <td>14.980000</td>\n",
       "      <td>15.800000</td>\n",
       "      <td>1.185000e+05</td>\n",
       "      <td>15.800000</td>\n",
       "    </tr>\n",
       "    <tr>\n",
       "      <th>25%</th>\n",
       "      <td>30.000000</td>\n",
       "      <td>30.650000</td>\n",
       "      <td>29.215000</td>\n",
       "      <td>29.884999</td>\n",
       "      <td>1.194350e+06</td>\n",
       "      <td>29.884999</td>\n",
       "    </tr>\n",
       "    <tr>\n",
       "      <th>50%</th>\n",
       "      <td>156.334999</td>\n",
       "      <td>162.370002</td>\n",
       "      <td>153.150002</td>\n",
       "      <td>158.160004</td>\n",
       "      <td>3.180700e+06</td>\n",
       "      <td>158.160004</td>\n",
       "    </tr>\n",
       "    <tr>\n",
       "      <th>75%</th>\n",
       "      <td>220.557495</td>\n",
       "      <td>224.099999</td>\n",
       "      <td>217.119999</td>\n",
       "      <td>220.022503</td>\n",
       "      <td>5.662100e+06</td>\n",
       "      <td>220.022503</td>\n",
       "    </tr>\n",
       "    <tr>\n",
       "      <th>max</th>\n",
       "      <td>287.670013</td>\n",
       "      <td>291.420013</td>\n",
       "      <td>280.399994</td>\n",
       "      <td>286.040009</td>\n",
       "      <td>3.716390e+07</td>\n",
       "      <td>286.040009</td>\n",
       "    </tr>\n",
       "  </tbody>\n",
       "</table>\n",
       "</div>"
      ],
      "text/plain": [
       "              Open         High          Low        Close        Volume  \\\n",
       "count  1692.000000  1692.000000  1692.000000  1692.000000  1.692000e+03   \n",
       "mean    132.441572   134.769698   129.996223   132.428658  4.270741e+06   \n",
       "std      94.309923    95.694914    92.855227    94.313187  4.295971e+06   \n",
       "min      16.139999    16.629999    14.980000    15.800000  1.185000e+05   \n",
       "25%      30.000000    30.650000    29.215000    29.884999  1.194350e+06   \n",
       "50%     156.334999   162.370002   153.150002   158.160004  3.180700e+06   \n",
       "75%     220.557495   224.099999   217.119999   220.022503  5.662100e+06   \n",
       "max     287.670013   291.420013   280.399994   286.040009  3.716390e+07   \n",
       "\n",
       "         Adj Close  \n",
       "count  1692.000000  \n",
       "mean    132.428658  \n",
       "std      94.313187  \n",
       "min      15.800000  \n",
       "25%      29.884999  \n",
       "50%     158.160004  \n",
       "75%     220.022503  \n",
       "max     286.040009  "
      ]
     },
     "execution_count": 6,
     "metadata": {},
     "output_type": "execute_result"
    }
   ],
   "source": [
    "df.describe()"
   ]
  },
  {
   "cell_type": "code",
   "execution_count": 7,
   "id": "39c9d00c",
   "metadata": {},
   "outputs": [],
   "source": [
    "#Make two new columns which will be used for making predictions.\n",
    "df[\"HL_Perc\"] = (df[\"High\"]-df[\"Low\"]) / df[\"Low\"] * 100\n",
    "df[\"CO_Perc\"] = (df[\"Close\"] - df[\"Open\"]) / df[\"Open\"] * 100"
   ]
  },
  {
   "cell_type": "code",
   "execution_count": 8,
   "id": "e6e27e2d",
   "metadata": {},
   "outputs": [],
   "source": [
    "dates = np.array(df[\"Date\"])\n",
    "dates_check = dates[-30:]\n",
    "dates = dates[:-30]"
   ]
  },
  {
   "cell_type": "code",
   "execution_count": 9,
   "id": "867fcc27",
   "metadata": {},
   "outputs": [],
   "source": [
    "df = df[[\"HL_Perc\", \"CO_Perc\", \"Adj Close\", \"Volume\"]]"
   ]
  },
  {
   "cell_type": "code",
   "execution_count": 10,
   "id": "cfb4b87b",
   "metadata": {},
   "outputs": [],
   "source": [
    "#Define the label column\n",
    "df[\"PriceNextMonth\"] = df[\"Adj Close\"].shift(-30)"
   ]
  },
  {
   "cell_type": "code",
   "execution_count": 11,
   "id": "048d3eff",
   "metadata": {},
   "outputs": [
    {
     "data": {
      "text/html": [
       "<div>\n",
       "<style scoped>\n",
       "    .dataframe tbody tr th:only-of-type {\n",
       "        vertical-align: middle;\n",
       "    }\n",
       "\n",
       "    .dataframe tbody tr th {\n",
       "        vertical-align: top;\n",
       "    }\n",
       "\n",
       "    .dataframe thead th {\n",
       "        text-align: right;\n",
       "    }\n",
       "</style>\n",
       "<table border=\"1\" class=\"dataframe\">\n",
       "  <thead>\n",
       "    <tr style=\"text-align: right;\">\n",
       "      <th></th>\n",
       "      <th>HL_Perc</th>\n",
       "      <th>CO_Perc</th>\n",
       "      <th>Adj Close</th>\n",
       "      <th>Volume</th>\n",
       "      <th>PriceNextMonth</th>\n",
       "    </tr>\n",
       "  </thead>\n",
       "  <tbody>\n",
       "    <tr>\n",
       "      <th>1687</th>\n",
       "      <td>1.676418</td>\n",
       "      <td>0.551422</td>\n",
       "      <td>246.169998</td>\n",
       "      <td>3010700</td>\n",
       "      <td>NaN</td>\n",
       "    </tr>\n",
       "    <tr>\n",
       "      <th>1688</th>\n",
       "      <td>4.918296</td>\n",
       "      <td>4.831173</td>\n",
       "      <td>258.000000</td>\n",
       "      <td>7575500</td>\n",
       "      <td>NaN</td>\n",
       "    </tr>\n",
       "    <tr>\n",
       "      <th>1689</th>\n",
       "      <td>2.646791</td>\n",
       "      <td>-0.494165</td>\n",
       "      <td>255.729996</td>\n",
       "      <td>4816600</td>\n",
       "      <td>NaN</td>\n",
       "    </tr>\n",
       "    <tr>\n",
       "      <th>1690</th>\n",
       "      <td>2.582414</td>\n",
       "      <td>-0.133386</td>\n",
       "      <td>262.049988</td>\n",
       "      <td>7100400</td>\n",
       "      <td>NaN</td>\n",
       "    </tr>\n",
       "    <tr>\n",
       "      <th>1691</th>\n",
       "      <td>1.581154</td>\n",
       "      <td>-0.946970</td>\n",
       "      <td>261.500000</td>\n",
       "      <td>6475900</td>\n",
       "      <td>NaN</td>\n",
       "    </tr>\n",
       "  </tbody>\n",
       "</table>\n",
       "</div>"
      ],
      "text/plain": [
       "       HL_Perc   CO_Perc   Adj Close   Volume  PriceNextMonth\n",
       "1687  1.676418  0.551422  246.169998  3010700             NaN\n",
       "1688  4.918296  4.831173  258.000000  7575500             NaN\n",
       "1689  2.646791 -0.494165  255.729996  4816600             NaN\n",
       "1690  2.582414 -0.133386  262.049988  7100400             NaN\n",
       "1691  1.581154 -0.946970  261.500000  6475900             NaN"
      ]
     },
     "execution_count": 11,
     "metadata": {},
     "output_type": "execute_result"
    }
   ],
   "source": [
    "df.tail()"
   ]
  },
  {
   "cell_type": "code",
   "execution_count": 17,
   "id": "8061100f",
   "metadata": {},
   "outputs": [
    {
     "ename": "TypeError",
     "evalue": "DataFrame.drop() takes from 1 to 2 positional arguments but 3 were given",
     "output_type": "error",
     "traceback": [
      "\u001b[0;31m---------------------------------------------------------------------------\u001b[0m",
      "\u001b[0;31mTypeError\u001b[0m                                 Traceback (most recent call last)",
      "Cell \u001b[0;32mIn[17], line 2\u001b[0m\n\u001b[1;32m      1\u001b[0m \u001b[38;5;66;03m#Make fetaure and label arrays\u001b[39;00m\n\u001b[0;32m----> 2\u001b[0m X \u001b[38;5;241m=\u001b[39m np\u001b[38;5;241m.\u001b[39marray(df\u001b[38;5;241m.\u001b[39mdrop([\u001b[38;5;124m\"\u001b[39m\u001b[38;5;124mPriceNextMonth\u001b[39m\u001b[38;5;124m\"\u001b[39m], \u001b[38;5;241m1\u001b[39m))\n\u001b[1;32m      3\u001b[0m X \u001b[38;5;241m=\u001b[39m preprocessing\u001b[38;5;241m.\u001b[39mscale(X)\n\u001b[1;32m      4\u001b[0m X_Check \u001b[38;5;241m=\u001b[39m X[\u001b[38;5;241m-\u001b[39m\u001b[38;5;241m30\u001b[39m:]\n",
      "\u001b[0;31mTypeError\u001b[0m: DataFrame.drop() takes from 1 to 2 positional arguments but 3 were given"
     ]
    }
   ],
   "source": [
    "#Make fetaure and label arrays\n",
    "X = np.array(df.drop([\"PriceNextMonth\"], 1))\n",
    "X = preprocessing.scale(X)\n",
    "X_Check = X[-30:]\n",
    "X = X[:-30]\n",
    "df.dropna(inplace = True)\n",
    "y = np.array(df[\"PriceNextMonth\"])"
   ]
  },
  {
   "cell_type": "code",
   "execution_count": 16,
   "id": "df86e28a",
   "metadata": {},
   "outputs": [
    {
     "ename": "NameError",
     "evalue": "name 'X' is not defined",
     "output_type": "error",
     "traceback": [
      "\u001b[0;31m---------------------------------------------------------------------------\u001b[0m",
      "\u001b[0;31mNameError\u001b[0m                                 Traceback (most recent call last)",
      "Cell \u001b[0;32mIn[16], line 2\u001b[0m\n\u001b[1;32m      1\u001b[0m \u001b[38;5;66;03m#Divide the data set into training data and testing data\u001b[39;00m\n\u001b[0;32m----> 2\u001b[0m X_train, X_test, y_train, y_test \u001b[38;5;241m=\u001b[39m train_test_split(X,y,test_size \u001b[38;5;241m=\u001b[39m \u001b[38;5;241m0.2\u001b[39m)\n",
      "\u001b[0;31mNameError\u001b[0m: name 'X' is not defined"
     ]
    }
   ],
   "source": [
    "#Divide the data set into training data and testing data\n",
    "X_train, X_test, y_train, y_test = train_test_split(X,y,test_size = 0.2)"
   ]
  },
  {
   "cell_type": "code",
   "execution_count": 14,
   "id": "ddc28da0",
   "metadata": {},
   "outputs": [],
   "source": [
    "#Define the prediction model\n",
    "model = RandomForestRegressor()"
   ]
  },
  {
   "cell_type": "code",
   "execution_count": 15,
   "id": "94a1b09f",
   "metadata": {},
   "outputs": [
    {
     "ename": "NameError",
     "evalue": "name 'X_train' is not defined",
     "output_type": "error",
     "traceback": [
      "\u001b[0;31m---------------------------------------------------------------------------\u001b[0m",
      "\u001b[0;31mNameError\u001b[0m                                 Traceback (most recent call last)",
      "Cell \u001b[0;32mIn[15], line 2\u001b[0m\n\u001b[1;32m      1\u001b[0m \u001b[38;5;66;03m#Fit the model using training data\u001b[39;00m\n\u001b[0;32m----> 2\u001b[0m model\u001b[38;5;241m.\u001b[39mfit(X_train, y_train)\n",
      "\u001b[0;31mNameError\u001b[0m: name 'X_train' is not defined"
     ]
    }
   ],
   "source": [
    "#Fit the model using training data\n",
    "model.fit(X_train, y_train)"
   ]
  },
  {
   "cell_type": "code",
   "execution_count": null,
   "id": "1fa11fdd",
   "metadata": {},
   "outputs": [],
   "source": [
    "#Calculate the confidence value by applying the model to testing data\n",
    "conf = model.score(X_test, y_test)\n",
    "print(conf)"
   ]
  },
  {
   "cell_type": "code",
   "execution_count": null,
   "id": "a864d22d",
   "metadata": {},
   "outputs": [],
   "source": [
    "#Fit the model again using the whole data set\n",
    "model.fit(X,y)"
   ]
  },
  {
   "cell_type": "code",
   "execution_count": null,
   "id": "0ba2c455",
   "metadata": {},
   "outputs": [],
   "source": [
    "predictions = model.predict(X_Check)"
   ]
  },
  {
   "cell_type": "code",
   "execution_count": null,
   "id": "dc2b200b",
   "metadata": {},
   "outputs": [],
   "source": [
    "#Make the final DataFrame containing Dates, ClosePrices, and Forecast values\n",
    "actual = pd.DataFrame(dates, columns = [\"Date\"])\n",
    "actual[\"ClosePrice\"] = df[\"Adj Close\"]\n",
    "actual[\"Forecast\"] = np.nan\n",
    "actual.set_index(\"Date\", inplace = True)\n",
    "forecast = pd.DataFrame(dates_check, columns=[\"Date\"])\n",
    "forecast[\"Forecast\"] = predictions\n",
    "forecast[\"ClosePrice\"] = np.nan\n",
    "forecast.set_index(\"Date\", inplace = True)\n",
    "var = [actual, forecast]\n",
    "result = pd.concat(var)  #This is the final DataFrame"
   ]
  },
  {
   "cell_type": "code",
   "execution_count": null,
   "id": "700fcf3b",
   "metadata": {},
   "outputs": [],
   "source": [
    "#Plot the final results\n",
    "result.plot(figsize=(20,10), linewidth=1.5)\n",
    "plt.legend(loc=2, prop={'size':20})\n",
    "plt.xlabel('Date')\n",
    "plt.ylabel('Price')"
   ]
  },
  {
   "cell_type": "code",
   "execution_count": null,
   "id": "145dd7f2",
   "metadata": {},
   "outputs": [],
   "source": []
  }
 ],
 "metadata": {
  "kernelspec": {
   "display_name": "Python 3 (ipykernel)",
   "language": "python",
   "name": "python3"
  },
  "language_info": {
   "codemirror_mode": {
    "name": "ipython",
    "version": 3
   },
   "file_extension": ".py",
   "mimetype": "text/x-python",
   "name": "python",
   "nbconvert_exporter": "python",
   "pygments_lexer": "ipython3",
   "version": "3.12.7"
  }
 },
 "nbformat": 4,
 "nbformat_minor": 5
}
