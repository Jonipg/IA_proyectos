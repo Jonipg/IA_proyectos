{
 "cells": [
  {
   "cell_type": "markdown",
   "id": "dbcb3200-f8fc-41f9-8203-7003a5a8c2ea",
   "metadata": {},
   "source": [
    "# Visualizacion del conjunto de datos "
   ]
  },
  {
   "cell_type": "markdown",
   "id": "61ef926e-f5e3-4378-ac13-57fc02d9406b",
   "metadata": {},
   "source": [
    "Este es un Notebook se muestran algunos de los mecanismos mas utilizados para la visualizacion de datos "
   ]
  },
  {
   "cell_type": "markdown",
   "id": "e3906da6-b9a2-4c15-b45c-77243a4c0289",
   "metadata": {},
   "source": [
    "## DataSet: Conjunto de datos \n",
    "\n",
    "### Descripcion\n",
    "\n",
    "NSL-KDD is a data set suggested to solve some of the inherent problems of the KDD'99 data set which are mentioned in. Although, this new version of the KDD data set still suffers from some of the problems discussed by McHugh and may not be a perfect representative of existing real networks, because of the lack of public data sets for network-based IDSs, we believe it still can be applied as an effective benchmark data set to help researchers compare different intrusion detection methods. Furthermore, the number of records in the NSL-KDD train and test sets are reasonable. This advantage makes it affordable to run the experiments on the complete set without the need to randomly select a small portion. Consequently, evaluation results of different research work will be consistent and comparable.\n",
    "\n",
    "Ficheros de datos\n",
    "* <span style=\"color:green\"> **KDDTrain+.ARFF**: The full NSL-KDD train set with binary labels in ARFF format </span>\n",
    "\n",
    "* <span style=\"color:green\">KDDTrain+.TXT: The full NSL-KDD train set including attack-type labels and difficulty level in CSV format. </span>\n",
    "* KDDTrain+_20Percent.ARFF: A 20% subset of the KDDTrain+.arff file\n",
    "KDDTrain+_20Percent.TXT: A 20% subset of the KDDTrain+.txt file\n",
    "KDDTest+.ARFF: The full NSL-KDD test set with binary labels in ARFF format\n",
    "KDDTest+.TXT: The full NSL-KDD test set including attack-type labels and difficulty level in CSV format\n",
    "KDDTest-21.ARFF: A subset of the KDDTest+.arff file which does not include records with difficulty level of 21 out of 21\n",
    "KDDTest-21.TXT: A subset of the KDDTest+.txt file which does not include records with difficulty level of 21 out of 21"
   ]
  },
  {
   "cell_type": "code",
   "execution_count": 1,
   "id": "55e6ad57-5879-4532-b35c-3347ecd702d7",
   "metadata": {
    "scrolled": true
   },
   "outputs": [
    {
     "ename": "FileNotFoundError",
     "evalue": "[Errno 2] No such file or directory: 'datasets/NSL-KDD/KDDTrain+.txt'",
     "output_type": "error",
     "traceback": [
      "\u001b[0;31m---------------------------------------------------------------------------\u001b[0m",
      "\u001b[0;31mFileNotFoundError\u001b[0m                         Traceback (most recent call last)",
      "Cell \u001b[0;32mIn[1], line 6\u001b[0m\n\u001b[1;32m      3\u001b[0m ruta_archivo \u001b[38;5;241m=\u001b[39m \u001b[38;5;124m\"\u001b[39m\u001b[38;5;124mdatasets/NSL-KDD/KDDTrain+.txt\u001b[39m\u001b[38;5;124m\"\u001b[39m\n\u001b[1;32m      5\u001b[0m \u001b[38;5;66;03m# Leer el archivo usando with open\u001b[39;00m\n\u001b[0;32m----> 6\u001b[0m \u001b[38;5;28;01mwith\u001b[39;00m \u001b[38;5;28mopen\u001b[39m(ruta_archivo, \u001b[38;5;124m'\u001b[39m\u001b[38;5;124mr\u001b[39m\u001b[38;5;124m'\u001b[39m) \u001b[38;5;28;01mas\u001b[39;00m train_set:\n\u001b[1;32m      7\u001b[0m     \u001b[38;5;66;03m# Leer todas las líneas\u001b[39;00m\n\u001b[1;32m      8\u001b[0m     lineas \u001b[38;5;241m=\u001b[39m train_set\u001b[38;5;241m.\u001b[39mreadlines()\n\u001b[1;32m      9\u001b[0m pd\n",
      "File \u001b[0;32m~/anaconda3/lib/python3.12/site-packages/IPython/core/interactiveshell.py:324\u001b[0m, in \u001b[0;36m_modified_open\u001b[0;34m(file, *args, **kwargs)\u001b[0m\n\u001b[1;32m    317\u001b[0m \u001b[38;5;28;01mif\u001b[39;00m file \u001b[38;5;129;01min\u001b[39;00m {\u001b[38;5;241m0\u001b[39m, \u001b[38;5;241m1\u001b[39m, \u001b[38;5;241m2\u001b[39m}:\n\u001b[1;32m    318\u001b[0m     \u001b[38;5;28;01mraise\u001b[39;00m \u001b[38;5;167;01mValueError\u001b[39;00m(\n\u001b[1;32m    319\u001b[0m         \u001b[38;5;124mf\u001b[39m\u001b[38;5;124m\"\u001b[39m\u001b[38;5;124mIPython won\u001b[39m\u001b[38;5;124m'\u001b[39m\u001b[38;5;124mt let you open fd=\u001b[39m\u001b[38;5;132;01m{\u001b[39;00mfile\u001b[38;5;132;01m}\u001b[39;00m\u001b[38;5;124m by default \u001b[39m\u001b[38;5;124m\"\u001b[39m\n\u001b[1;32m    320\u001b[0m         \u001b[38;5;124m\"\u001b[39m\u001b[38;5;124mas it is likely to crash IPython. If you know what you are doing, \u001b[39m\u001b[38;5;124m\"\u001b[39m\n\u001b[1;32m    321\u001b[0m         \u001b[38;5;124m\"\u001b[39m\u001b[38;5;124myou can use builtins\u001b[39m\u001b[38;5;124m'\u001b[39m\u001b[38;5;124m open.\u001b[39m\u001b[38;5;124m\"\u001b[39m\n\u001b[1;32m    322\u001b[0m     )\n\u001b[0;32m--> 324\u001b[0m \u001b[38;5;28;01mreturn\u001b[39;00m io_open(file, \u001b[38;5;241m*\u001b[39margs, \u001b[38;5;241m*\u001b[39m\u001b[38;5;241m*\u001b[39mkwargs)\n",
      "\u001b[0;31mFileNotFoundError\u001b[0m: [Errno 2] No such file or directory: 'datasets/NSL-KDD/KDDTrain+.txt'"
     ]
    }
   ],
   "source": [
    "# lectura de dataset mediante funciones de python\n",
    "import pandas as pd\n",
    "ruta_archivo = \"datasets/NSL-KDD/KDDTrain+.txt\"\n",
    "\n",
    "# Leer el archivo usando with open\n",
    "with open(ruta_archivo, 'r') as train_set:\n",
    "    # Leer todas las líneas\n",
    "    lineas = train_set.readlines()\n",
    "pd"
   ]
  },
  {
   "cell_type": "code",
   "execution_count": null,
   "id": "8ebdcb2a-5686-4961-bfea-18c8c8665bc9",
   "metadata": {},
   "outputs": [],
   "source": [
    "# lectura de dataset mediante funciones de python\n",
    "with open(\"datasets/NSL-KDD/KDDTrain+.txt\") as train_set:\n",
    "    df = train_set.readlines()\n",
    "df"
   ]
  },
  {
   "cell_type": "code",
   "execution_count": null,
   "id": "d15f7a4b-c358-45bb-aa93-d7a6914d55b6",
   "metadata": {},
   "outputs": [],
   "source": [
    "import pandas as pd\n",
    "df=pd.read_csv(\"datasets/NSL-KDD/KDDTrain+.txt\")\n",
    "df"
   ]
  },
  {
   "cell_type": "code",
   "execution_count": null,
   "id": "e0ccde5f-9fdb-4408-b366-15291dc4819b",
   "metadata": {},
   "outputs": [],
   "source": [
    "# Mostrar los ficheros en el directorio del dataset\n",
    "import os\n",
    "\n",
    "os.listdir(\"datasets/NSL-KDD/\")"
   ]
  },
  {
   "cell_type": "markdown",
   "id": "ee789816-8747-4b98-93fd-d689e7b19818",
   "metadata": {},
   "source": [
    "An ARFF (Attribute-Relation File Format) file is an ASCII text file that describes a list of instances sharing a set of attributes. ARFF files were developed by the Machine Learning Project at the Department of Computer Science of The University of Waikato for use with the Weka machine learning software. Más información: https://www.cs.waikato.ac.nz/ml/weka/arff.html\n",
    "\n",
    "the weka fue hecho enla universidad de wicato"
   ]
  },
  {
   "cell_type": "code",
   "execution_count": null,
   "id": "1d305619-b9e0-4b2b-9da9-e654f7514ce0",
   "metadata": {},
   "outputs": [],
   "source": [
    "# instalamos un nuevo pquete en el kernel de jupiter notebook actual para parcear ficheros a ARLF\n",
    "import sys \n",
    "\n",
    "!{sis.executable} -m pip install liac-arff"
   ]
  },
  {
   "cell_type": "code",
   "execution_count": null,
   "id": "171cc4b9-7de9-4fbc-a638-59089f291783",
   "metadata": {},
   "outputs": [],
   "source": [
    "pip install liac-arff"
   ]
  },
  {
   "cell_type": "code",
   "execution_count": null,
   "id": "ef31df69-753e-46ae-aa3e-3dbe6d034b9b",
   "metadata": {},
   "outputs": [],
   "source": [
    "#lectura del data set que se encuentra en formato . arff\n",
    "import arff\n",
    "\n",
    "with open(\"datasets/NSL-KDD/KDDTrain+.arff\",'r') as train_set:\n",
    "    df=arff.load(train_set)\n",
    "\n",
    "df.keys()"
   ]
  },
  {
   "cell_type": "code",
   "execution_count": null,
   "id": "e116811a-7fe1-4f5b-bd36-163afc93e0c2",
   "metadata": {},
   "outputs": [],
   "source": [
    "df[\"data\"]"
   ]
  },
  {
   "cell_type": "code",
   "execution_count": null,
   "id": "7c2fe284-8e61-470c-aa6e-88eef55b6dd8",
   "metadata": {},
   "outputs": [],
   "source": [
    "df[\"attributes\"]  #llamamos los atributos "
   ]
  },
  {
   "cell_type": "code",
   "execution_count": null,
   "id": "cebf59c7-87b1-447f-a211-dfd30c1e3219",
   "metadata": {},
   "outputs": [],
   "source": [
    "# parcera los atributos y obtener unicamente los nombres\n",
    "attributos=[attr[0] for attr in df[\"attributes\"] ]\n",
    "attributos"
   ]
  },
  {
   "cell_type": "code",
   "execution_count": null,
   "id": "7784e3c6-8c7c-4527-ab69-f3b9ef8ae78b",
   "metadata": {},
   "outputs": [],
   "source": [
    "#leer el data set\n",
    "df =pd.DataFrame(df[\"data\"], columns = attributos)\n",
    "df"
   ]
  },
  {
   "cell_type": "markdown",
   "id": "11641b2c-2f05-4a7d-8fad-0bd3e3d94eb3",
   "metadata": {},
   "source": [
    "Llegados a este punto lo ideal es construir una funcion que perminta leer el dataset de manera mas limpia  este tipo de practicas son de gran utilidad para que nuestros códigos en jupiter noteboock sea mas modular y pueda reutilizarse de manera mas sencilla para futuros ejercicios "
   ]
  },
  {
   "cell_type": "code",
   "execution_count": null,
   "id": "b56cee61-58ec-4b4a-9e65-1aceb3fc5b4c",
   "metadata": {},
   "outputs": [],
   "source": [
    "def load_kdd_dataset(data_path):\n",
    "    \"\"\"lectura del dataset NSL-KDD.\"\"\"\n",
    "    with open(data_path, 'r') as train_set:\n",
    "        dataset = arff.load(train_set)\n",
    "    attributes=[attr[0] for attr in dataset[\"attributes\"]]\n",
    "    return pd.DataFrame(dataset[\"data\"], columns=attributes) "
   ]
  },
  {
   "cell_type": "code",
   "execution_count": null,
   "id": "14ed1fec-bfd9-4fce-ae54-178958bc795d",
   "metadata": {},
   "outputs": [],
   "source": [
    "load_kdd_dataset('datasets/NSL-KDD/KDDTrain+.arff')"
   ]
  },
  {
   "cell_type": "markdown",
   "id": "f3c4cb10-9f0c-43a0-84b0-0be75289943a",
   "metadata": {},
   "source": [
    "# 2.- Funciones basicas de visualizacion de datos "
   ]
  },
  {
   "cell_type": "markdown",
   "id": "bfe15806-2c38-43b1-aba9-f2f51c586f5b",
   "metadata": {},
   "source": [
    "* el proceso de visualizacion siempre debe realizarse sobre el trainig-set. Esto evita que nuestro entrenamiento genere intuiciones del test-set que se imcorpora en nuestro módelo.\n",
    "* Una buena practica es crear una copia de training-set y jugar con ella de esta manera si se realizan tranformaciones que dañen el training-set el original no se vea afectado "
   ]
  },
  {
   "cell_type": "code",
   "execution_count": null,
   "id": "0dabcdde-f3d5-40bf-ae6a-c599a8e7c8ff",
   "metadata": {},
   "outputs": [],
   "source": [
    "# lectura y copia del df\n",
    "df_orig = load_kdd_dataset('datasets/NSL-KDD/KDDTrain+.arff')\n",
    "df= df_orig.copy()"
   ]
  },
  {
   "cell_type": "code",
   "execution_count": null,
   "id": "00a9282f-9527-4d7b-acbe-ffc6799dd5ad",
   "metadata": {},
   "outputs": [],
   "source": [
    "df.head(10)"
   ]
  },
  {
   "cell_type": "code",
   "execution_count": null,
   "id": "824b828e-f717-47a2-9f08-a93bdd5153e8",
   "metadata": {},
   "outputs": [],
   "source": [
    "#mostrando la info basica sobre el dataset\n",
    "df.info()"
   ]
  },
  {
   "cell_type": "code",
   "execution_count": null,
   "id": "3bfbf6f5-dbae-4f50-b237-a06eb77d4970",
   "metadata": {},
   "outputs": [],
   "source": [
    "#mostrar informacion estadistica  sobre el dataset \n",
    "df.describe()\n",
    "#valores  ponderados 25%,50%,75%"
   ]
  },
  {
   "cell_type": "code",
   "execution_count": null,
   "id": "493d76dd-9757-4acb-b95c-74019a3f81b4",
   "metadata": {},
   "outputs": [],
   "source": [
    "#mostrar los valores unicos que tiene un atributo determinado\n",
    "df[\"protocol_type\"].value_counts()"
   ]
  },
  {
   "cell_type": "code",
   "execution_count": null,
   "id": "a3ff3bfd-de29-4320-9102-45dd088e4343",
   "metadata": {},
   "outputs": [],
   "source": [
    "#anomalos y no anomalos\n",
    "df[\"class\"].value_counts()"
   ]
  },
  {
   "cell_type": "code",
   "execution_count": null,
   "id": "53029348-4c06-4953-a261-1bcee351fe14",
   "metadata": {},
   "outputs": [],
   "source": [
    "import matplotlib\n",
    "import matplotlib.pyplot as plt\n",
    "%matplotlib inline\n",
    "df[\"protocol_type\"].hist()"
   ]
  },
  {
   "cell_type": "code",
   "execution_count": null,
   "id": "8efde635-4fd8-44b1-b3f7-c4e4c51c5e44",
   "metadata": {},
   "outputs": [],
   "source": [
    "data=df[\"protocol_type\"]\n",
    "plt.hist(data)\n",
    "plt.show()"
   ]
  },
  {
   "cell_type": "code",
   "execution_count": null,
   "id": "4f750da6-b6f7-428f-867f-5338858b366e",
   "metadata": {
    "scrolled": true
   },
   "outputs": [],
   "source": [
    "df.hist(bins=50 , figsize=(20,15))\n",
    "plt.show()"
   ]
  },
  {
   "cell_type": "code",
   "execution_count": null,
   "id": "c30389a8-9bff-41c8-994c-3b2474238840",
   "metadata": {},
   "outputs": [],
   "source": [
    "df.plot()\n",
    "plt.show()"
   ]
  },
  {
   "cell_type": "markdown",
   "id": "3cf7be11-42d5-42e0-b00b-1a1ebd3a0a0f",
   "metadata": {},
   "source": [
    "# 3.- FUNCIONES AVANSADAS DE VISUALIZACION DE LOS DATOS \n",
    "### Buscando Correlaciones \n",
    "* se puede calcular el coheficiente de correlacion estándar  para validar la correlacion entre cada par de atributos el coheficiente de correlacion solo mide **Correalciones lineales** esto quiere decir que si x va hacia arriba me diria si y va hacia arriba o hacia abajo\n",
    "*  **hay que intentar buscar correalciones sobre todo con el atributo objetivo (el que se desea predecir ), en este caso es CLASS**"
   ]
  },
  {
   "cell_type": "code",
   "execution_count": null,
   "id": "a5543e2c-8dca-4910-9a5e-54193b96aa18",
   "metadata": {},
   "outputs": [],
   "source": [
    "# el atributo class de nuestro conjunto de dato tiene valores categoricos\n",
    "df[\"class\"]"
   ]
  },
  {
   "cell_type": "code",
   "execution_count": null,
   "id": "7b7e192e-3b57-4f90-9465-ef5c45b0d846",
   "metadata": {},
   "outputs": [],
   "source": [
    "# tranformar los valores del atributo class de categoricos a numericos \n",
    "from sklearn.preprocessing import LabelEncoder\n",
    "labelencoder = LabelEncoder()\n",
    "df[\"class\"] = labelencoder.fit_transform(df[\"class\"])\n",
    "df"
   ]
  },
  {
   "cell_type": "code",
   "execution_count": null,
   "id": "f8357ce6-9792-47ca-8fd3-fe663d1a68c6",
   "metadata": {},
   "outputs": [],
   "source": [
    "# Mostrar la correlacion entre los atributos de dataset\n",
    "corr_matrix = df.corr(numeric_only=True)\n",
    "corr_matrix[\"class\"].sort_values(ascending=False)"
   ]
  },
  {
   "cell_type": "code",
   "execution_count": null,
   "id": "d19b46c7-94a2-4b64-ac57-ab93a6f703ef",
   "metadata": {},
   "outputs": [],
   "source": [
    "#mostrar correlacion lineal entre todos los atributos del dataset\n",
    "df.corr(numeric_only=True)"
   ]
  },
  {
   "cell_type": "code",
   "execution_count": null,
   "id": "57da534d-736e-4864-b49e-af1e35fa8bd1",
   "metadata": {},
   "outputs": [],
   "source": [
    "#representar la graficamente la matriz de correlacion \n",
    "corr=df.corr(numeric_only = True)\n",
    "fig, ax =plt.subplots(figsize=(8,8))\n",
    "ax.matshow(corr)\n",
    "plt.xticks(range(len(corr.columns)),corr.columns);\n",
    "plt.yticks(range(len(corr.columns)),corr.columns);"
   ]
  },
  {
   "cell_type": "code",
   "execution_count": null,
   "id": "8faae54d-6c0d-4a06-849f-69608061529f",
   "metadata": {},
   "outputs": [],
   "source": [
    "# Representar graficamente las correalciones\n",
    "from pandas.plotting import scatter_matrix\n",
    "atributes=[\"same_srv_rate\",\"dst_host_srv_count\",\"class\",\"dst_host_same_srv_rate\"]\n",
    "scatter_matrix(df[atributes],figsize=(12,8))\n",
    "plt.show()"
   ]
  },
  {
   "cell_type": "code",
   "execution_count": null,
   "id": "821f46c5-2e88-43d2-a97d-df81bea87bb6",
   "metadata": {},
   "outputs": [],
   "source": []
  }
 ],
 "metadata": {
  "kernelspec": {
   "display_name": "Python 3 (ipykernel)",
   "language": "python",
   "name": "python3"
  },
  "language_info": {
   "codemirror_mode": {
    "name": "ipython",
    "version": 3
   },
   "file_extension": ".py",
   "mimetype": "text/x-python",
   "name": "python",
   "nbconvert_exporter": "python",
   "pygments_lexer": "ipython3",
   "version": "3.12.7"
  }
 },
 "nbformat": 4,
 "nbformat_minor": 5
}
