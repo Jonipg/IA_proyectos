{
 "cells": [
  {
   "cell_type": "markdown",
   "id": "1a0f8655-0ee4-4871-b5cf-fe950fa2692a",
   "metadata": {},
   "source": [
    "# Indroduccion a Pandas \n",
    "[Pandas](https://pandas.pydata.org/about/index.html) es una biblioteca que proporciona estructuras de datos y herramientas de analisis de datos de alto rendimiento y faciles de usar.\n",
    "* La estructura de datos prnicpal de datos es el DataFrame que puede considerarese como una tabla 2D en memoria (Como una hoja de cálculo, con nombres de columnas y etiquetas de fila).\n",
    "* Muchas funciones disponibles en exel, estan disponibles mediante programacion como crear tablas dinamicas crear columnas basadas en otras columnas, trazar gráficos, etc.\n",
    "* Proporciona alto rendimiento para manipular unir, dividir, modificar, etc. grandes conjuntos de datos. "
   ]
  },
  {
   "cell_type": "markdown",
   "id": "6a5d8b32-197b-456d-a2e7-258f29fb6c65",
   "metadata": {},
   "source": [
    "### Estructura de Datos con pandas \n",
    "La biblioteca de pandas, de manera generica contiene las siguientes estructuras de datos \n",
    "\n",
    "* **Series**: Array de una dimencion.\n",
    "* **DataFrame**: Tabla de 2 dimenciones.\n",
    "* **Panel**: Similar a un diccionario de DataFrames."
   ]
  },
  {
   "cell_type": "code",
   "execution_count": 1,
   "id": "6c7f5065-d705-4ea2-9d47-32f95e502c3f",
   "metadata": {},
   "outputs": [
    {
     "name": "stdout",
     "output_type": "stream",
     "text": [
      "Requirement already satisfied: pandas in /home/joni/anaconda3/lib/python3.12/site-packages (2.2.2)\n",
      "Requirement already satisfied: numpy>=1.26.0 in /home/joni/anaconda3/lib/python3.12/site-packages (from pandas) (1.26.4)\n",
      "Requirement already satisfied: python-dateutil>=2.8.2 in /home/joni/anaconda3/lib/python3.12/site-packages (from pandas) (2.9.0.post0)\n",
      "Requirement already satisfied: pytz>=2020.1 in /home/joni/anaconda3/lib/python3.12/site-packages (from pandas) (2024.1)\n",
      "Requirement already satisfied: tzdata>=2022.7 in /home/joni/anaconda3/lib/python3.12/site-packages (from pandas) (2023.3)\n",
      "Requirement already satisfied: six>=1.5 in /home/joni/anaconda3/lib/python3.12/site-packages (from python-dateutil>=2.8.2->pandas) (1.16.0)\n",
      "Note: you may need to restart the kernel to use updated packages.\n"
     ]
    }
   ],
   "source": [
    "pip install pandas"
   ]
  },
  {
   "cell_type": "code",
   "execution_count": 2,
   "id": "3f889fd5-83e4-4320-b5d8-44e02ee3b533",
   "metadata": {},
   "outputs": [],
   "source": [
    "import pandas as pd"
   ]
  },
  {
   "cell_type": "code",
   "execution_count": 3,
   "id": "f78ceedb-8c58-422a-8d5b-779f74eb6525",
   "metadata": {},
   "outputs": [
    {
     "name": "stdout",
     "output_type": "stream",
     "text": [
      "0     2\n",
      "1     4\n",
      "2     6\n",
      "3     8\n",
      "4    10\n",
      "dtype: int64\n"
     ]
    }
   ],
   "source": [
    "s = pd.Series([2, 4, 6, 8, 10])\n",
    "print(s)"
   ]
  },
  {
   "cell_type": "code",
   "execution_count": 4,
   "id": "e59cb082-2daf-4613-aad0-bc120f481934",
   "metadata": {},
   "outputs": [
    {
     "name": "stdout",
     "output_type": "stream",
     "text": [
      "Gabriel    175\n",
      "Lucero     160\n",
      "Braulio    180\n",
      "Jessy      161\n",
      "dtype: int64\n"
     ]
    }
   ],
   "source": [
    "# creacion de un objeto Series inicializado con un diccionario de python\n",
    "Alturas = {\"Gabriel\": 175, \"Lucero\": 160, \"Braulio\": 180, \"Jessy\": 161} #diccionario\n",
    "s=pd.Series(Alturas)\n",
    "print(s)"
   ]
  },
  {
   "cell_type": "code",
   "execution_count": 5,
   "id": "004c514b-f59b-4d50-9c33-b7f384bb7189",
   "metadata": {},
   "outputs": [
    {
     "name": "stdout",
     "output_type": "stream",
     "text": [
      "Braulio    180\n",
      "Gabriel    175\n",
      "dtype: int64\n"
     ]
    }
   ],
   "source": [
    "#Crear un objeto series eh inicializarlo con algunos de los elementos de un diccionario de python \n",
    "Alturas = {\"Gabriel\": 175, \"Lucero\": 160, \"Braulio\": 180, \"Jessy\": 161}\n",
    "s=pd.Series(Alturas, index=[\"Braulio\",\"Gabriel\"])#index para saver cuales valores obtendremos\n",
    "print(s)"
   ]
  },
  {
   "cell_type": "code",
   "execution_count": 6,
   "id": "c06c2e58-27ef-4439-95df-5514ceb1097c",
   "metadata": {},
   "outputs": [
    {
     "name": "stdout",
     "output_type": "stream",
     "text": [
      "Test1    34\n",
      "Test2    34\n",
      "Test3    34\n",
      "dtype: int64\n"
     ]
    }
   ],
   "source": [
    "#Creacion de un objeto series eh inicializarlo con un escalar \n",
    "s=pd.Series(34,[\"Test1\", \"Test2\", \"Test3\"])#esto es un escalar \n",
    "print(s)"
   ]
  },
  {
   "cell_type": "markdown",
   "id": "015f0c9b-1f16-424d-950b-29d5d5f14cae",
   "metadata": {},
   "source": [
    "## Acceso a los elementos de un objeto Series.\n",
    "Cada elemento en un objeto **Series** tiene un identificador unico que se denomina **Index Label**. "
   ]
  },
  {
   "cell_type": "code",
   "execution_count": 7,
   "id": "15417e41-527c-423f-8f09-f2fbd63c06a9",
   "metadata": {},
   "outputs": [
    {
     "name": "stdout",
     "output_type": "stream",
     "text": [
      "Num1    2\n",
      "Num2    4\n",
      "Num3    6\n",
      "Num4    8\n",
      "dtype: int64\n"
     ]
    }
   ],
   "source": [
    "#Creacr un objeto Series \n",
    "s=pd.Series([2, 4, 6, 8], index=[\"Num1\",\"Num2\",\"Num3\",\"Num4\"])#puedes crear los index que tu quieras \n",
    "print(s)"
   ]
  },
  {
   "cell_type": "code",
   "execution_count": 8,
   "id": "b754c97a-f1ac-4233-be3e-eda977ad5706",
   "metadata": {},
   "outputs": [
    {
     "data": {
      "text/plain": [
       "6"
      ]
     },
     "execution_count": 8,
     "metadata": {},
     "output_type": "execute_result"
    }
   ],
   "source": [
    "# Acceder a tercer elemento del objeto \n",
    "s[\"Num3\"]"
   ]
  },
  {
   "cell_type": "code",
   "execution_count": 9,
   "id": "82082620-e6a3-41b1-b72c-b17c0e847a6a",
   "metadata": {},
   "outputs": [
    {
     "name": "stderr",
     "output_type": "stream",
     "text": [
      "/tmp/ipykernel_6985/3146080330.py:2: FutureWarning: Series.__getitem__ treating keys as positions is deprecated. In a future version, integer keys will always be treated as labels (consistent with DataFrame behavior). To access a value by position, use `ser.iloc[pos]`\n",
      "  s[2]\n"
     ]
    },
    {
     "data": {
      "text/plain": [
       "6"
      ]
     },
     "execution_count": 9,
     "metadata": {},
     "output_type": "execute_result"
    }
   ],
   "source": [
    "# Tambien se puede acceder al elemento por pocicion \n",
    "s[2]"
   ]
  },
  {
   "cell_type": "code",
   "execution_count": 10,
   "id": "b350ff96-6a8d-41e4-9491-877f5ef9da78",
   "metadata": {},
   "outputs": [
    {
     "data": {
      "text/plain": [
       "6"
      ]
     },
     "execution_count": 10,
     "metadata": {},
     "output_type": "execute_result"
    }
   ],
   "source": [
    "#Loc es la forma estandar de acceder   un elemento de un objeto series por atributo \n",
    "s.loc[\"Num3\"] #Acediendo oir tributo"
   ]
  },
  {
   "cell_type": "code",
   "execution_count": 11,
   "id": "01757ed9-ece9-4083-ad7c-a1349182f8fc",
   "metadata": {},
   "outputs": [
    {
     "data": {
      "text/plain": [
       "6"
      ]
     },
     "execution_count": 11,
     "metadata": {},
     "output_type": "execute_result"
    }
   ],
   "source": [
    "#iloc es la forma estandar de acceder a un elemento series por posicion \n",
    "s.iloc[2]#acediendo a la posicion "
   ]
  },
  {
   "cell_type": "code",
   "execution_count": 12,
   "id": "b09397a4-17b4-4bf3-a47f-3e02cfc2688d",
   "metadata": {},
   "outputs": [
    {
     "data": {
      "text/plain": [
       "Num1    2\n",
       "Num2    4\n",
       "Num3    6\n",
       "Num4    8\n",
       "dtype: int64"
      ]
     },
     "execution_count": 12,
     "metadata": {},
     "output_type": "execute_result"
    }
   ],
   "source": [
    "#Accediendo al segundo y tercer elemento por posicion \n",
    "s.iloc[0:4] #accedemos a los valores deseados "
   ]
  },
  {
   "cell_type": "markdown",
   "id": "43af9289-6a9a-4f9b-a7de-c490209c6daa",
   "metadata": {},
   "source": [
    "## Operaciones Aritmeticas con Objetos Series."
   ]
  },
  {
   "cell_type": "code",
   "execution_count": 13,
   "id": "267df43a-7981-4016-901f-e76464105361",
   "metadata": {},
   "outputs": [
    {
     "name": "stdout",
     "output_type": "stream",
     "text": [
      "0     2\n",
      "1     4\n",
      "2     6\n",
      "3     8\n",
      "4    10\n",
      "dtype: int64\n"
     ]
    }
   ],
   "source": [
    "# Creacion de un objeto series \n",
    "s=pd.Series([2, 4, 6, 8, 10])\n",
    "print(s)"
   ]
  },
  {
   "cell_type": "code",
   "execution_count": 14,
   "id": "e177b2b0-8056-45ce-938d-3a3661765e9e",
   "metadata": {},
   "outputs": [
    {
     "data": {
      "text/plain": [
       "30"
      ]
     },
     "execution_count": 14,
     "metadata": {},
     "output_type": "execute_result"
    }
   ],
   "source": [
    "#los Objetos series son similares y compatibles con los arrays de numpy \n",
    "import numpy as np\n",
    "#ufunc de numpy para sumar los elementos de un array \n",
    "np.sum(s)\n"
   ]
  },
  {
   "cell_type": "code",
   "execution_count": 15,
   "id": "a73d955b-901b-4777-ab80-c7d8acded974",
   "metadata": {},
   "outputs": [
    {
     "data": {
      "text/plain": [
       "0     4\n",
       "1     8\n",
       "2    12\n",
       "3    16\n",
       "4    20\n",
       "dtype: int64"
      ]
     },
     "execution_count": 15,
     "metadata": {},
     "output_type": "execute_result"
    }
   ],
   "source": [
    "#el resto de las operaciones aritmeticas de Numpy sobre arrays tambien son posibles \n",
    "# nota: para mas informacion al respecto ir a la introduccion de Numpy o su documentacion\n",
    "s*2"
   ]
  },
  {
   "cell_type": "markdown",
   "id": "3125fee2-a02b-423a-bb65-abccfe975017",
   "metadata": {},
   "source": [
    "## Representacion Grafica de un objeto Series\n"
   ]
  },
  {
   "cell_type": "code",
   "execution_count": 16,
   "id": "7c68f068-8901-4fcc-a32e-5b7b7084e016",
   "metadata": {},
   "outputs": [
    {
     "data": {
      "text/plain": [
       "0     4.4\n",
       "1     5.1\n",
       "2     6.1\n",
       "3     6.2\n",
       "4     6.1\n",
       "5     6.1\n",
       "6     5.7\n",
       "7     5.2\n",
       "8     4.7\n",
       "9     4.1\n",
       "10    3.9\n",
       "Name: Temperaturas, dtype: float64"
      ]
     },
     "execution_count": 16,
     "metadata": {},
     "output_type": "execute_result"
    }
   ],
   "source": [
    "Temperaturas=[4.4, 5.1, 6.1, 6.2, 6.1, 6.1, 5.7, 5.2, 4.7, 4.1, 3.9]\n",
    "s= pd.Series(Temperaturas, name=\"Temperaturas\")\n",
    "s"
   ]
  },
  {
   "cell_type": "code",
   "execution_count": null,
   "id": "1ed74d69-1611-462e-8a44-b2a9296267b0",
   "metadata": {},
   "outputs": [],
   "source": [
    "#Representacion Grafica \n",
    "%matplotlib inline\n",
    "import matplotlib.pyplot as plt\n",
    "s.plot()\n",
    "plt.show()"
   ]
  },
  {
   "cell_type": "markdown",
   "id": "d23695e6-e589-432d-b8f3-b0f1ccc80ca8",
   "metadata": {},
   "source": [
    "## Creacion de un objeto DataFrame "
   ]
  },
  {
   "cell_type": "code",
   "execution_count": null,
   "id": "63b911aa-1f70-4ebc-a35d-99a725a01d55",
   "metadata": {},
   "outputs": [],
   "source": [
    "# creacion de un DataFrame inicializandolo con un diccionario de objetos series.\n",
    "Personas={\n",
    "    \"Peso\": pd.Series([70, 68, 60, 70],[\"Gabo\",\"Lucero\",\"Jessy\",\"Braulio\"]),\n",
    "    \"Altura\": pd.Series({\"Gabo\":175,\"Lucero\": 160,\"Jessy\":161,\"Braulio\":180}),\n",
    "    \"Mascotas\": pd.Series([4,7,],[\"Gabo\",\"Braulio\"])\n",
    "}\n",
    "df=pd.DataFrame(Personas)\n",
    "df"
   ]
  },
  {
   "cell_type": "markdown",
   "id": "de88d69d-6e49-4448-a765-1ca14396ab48",
   "metadata": {},
   "source": [
    "Puede forzarse el DataFrame que presente unas columnas determinadas y en un orden determinado "
   ]
  },
  {
   "cell_type": "code",
   "execution_count": null,
   "id": "69bb6b18-0116-4b45-a983-1231a80d867c",
   "metadata": {},
   "outputs": [],
   "source": [
    "Personas={\n",
    "    \"Peso\": pd.Series([70, 68, 60, 70],[\"Gabo\",\"Lucero\",\"Jessy\",\"Braulio\"]),\n",
    "    \"Altura\": pd.Series({\"Gabo\":175,\"Lucero\": 160,\"Jessy\":161,\"Braulio\":180}),\n",
    "    \"Mascotas\": pd.Series([4,7,],[\"Gabo\",\"Braulio\"])\n",
    "}\n",
    "df=pd.DataFrame(\n",
    "    Personas,\n",
    "    columns=[\"Altura\", \"Peso\"],\n",
    "    index=[\"Gabo\",\"Braulio\",\"Lucero\"])\n",
    "df"
   ]
  },
  {
   "cell_type": "code",
   "execution_count": null,
   "id": "55d72ccc-e8f8-4177-9976-3503b81f4a60",
   "metadata": {},
   "outputs": [],
   "source": [
    "#creacion de un dataframe e inicializarlo con una lista de lista de python \n",
    "#nota: deben espesificarse las columnas e indices por separado \n",
    "valores=[\n",
    "    [167,2,70],\n",
    "    [180,2,70],\n",
    "    [175,3,68]\n",
    "]\n",
    "df=pd.DataFrame(\n",
    "    valores,\n",
    "    columns=[\"Altura\",\"Mascotas\",\"Peso\"],\n",
    "    index=[\"Gabo\",\"Braulio\",\"Lucero\"]  \n",
    ")\n",
    "df"
   ]
  },
  {
   "cell_type": "code",
   "execution_count": null,
   "id": "b9da325f-1809-4c1b-9cc5-44f8b3f3a64d",
   "metadata": {},
   "outputs": [],
   "source": []
  }
 ],
 "metadata": {
  "kernelspec": {
   "display_name": "Python 3 (ipykernel)",
   "language": "python",
   "name": "python3"
  },
  "language_info": {
   "codemirror_mode": {
    "name": "ipython",
    "version": 3
   },
   "file_extension": ".py",
   "mimetype": "text/x-python",
   "name": "python",
   "nbconvert_exporter": "python",
   "pygments_lexer": "ipython3",
   "version": "3.12.7"
  }
 },
 "nbformat": 4,
 "nbformat_minor": 5
}
